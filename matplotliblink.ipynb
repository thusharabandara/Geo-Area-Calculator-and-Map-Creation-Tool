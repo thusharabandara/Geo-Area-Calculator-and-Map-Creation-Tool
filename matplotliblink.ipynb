{
  "nbformat": 4,
  "nbformat_minor": 0,
  "metadata": {
    "colab": {
      "provenance": [],
      "collapsed_sections": [],
      "authorship_tag": "ABX9TyO+rg9OPYTh6tYwGGaAl64Z",
      "include_colab_link": true
    },
    "kernelspec": {
      "name": "python3",
      "display_name": "Python 3"
    },
    "language_info": {
      "name": "python"
    }
  },
  "cells": [
    {
      "cell_type": "markdown",
      "metadata": {
        "id": "view-in-github",
        "colab_type": "text"
      },
      "source": [
        "<a href=\"https://colab.research.google.com/github/thusharabandara/Geo-Area-Calculator-and-Map-Creation-Tool/blob/main/matplotliblink.ipynb\" target=\"_parent\"><img src=\"https://colab.research.google.com/assets/colab-badge.svg\" alt=\"Open In Colab\"/></a>"
      ]
    },
    {
      "cell_type": "code",
      "source": [
        "from array import *\n",
        "import matplotlib.pyplot as plt\n",
        "\n",
        "\n",
        "m=int(input(\"Enter Number of Vertexs of the Polygon:\"))\n",
        "\n",
        "n=2\n",
        "\n",
        "Mat=[]\n",
        "\n",
        "for i in range (0,m):\n",
        "\n",
        "  Mat.append([])\n",
        "\n",
        "for i in range (0,m):\n",
        "\n",
        "  for j in range (0,n):\n",
        "\n",
        "    Mat[i].append(j)\n",
        "\n",
        "    Mat[i][j]=0\n",
        "\n",
        "for i in range (0,m):\n",
        "\n",
        "  for j in range(0,n):\n",
        "\n",
        "    print('entity in row: ',i+1,' column: ',j+1)\n",
        "\n",
        "    Mat[i][j]=int(input())\n",
        "\n",
        "print(Mat)\n",
        "x = [0, 1, 6,8,4]\n",
        "y = [3,6 , 7,5,1]\n",
        "\n",
        "plt.fill(x, y, c='green')\n",
        "plt.show()\n",
        "\n"
      ],
      "metadata": {
        "colab": {
          "base_uri": "https://localhost:8080/",
          "height": 647
        },
        "id": "e3LcBRa9sXWq",
        "outputId": "0172e907-2bb3-4477-9d96-96f5a9a7f15a"
      },
      "execution_count": 9,
      "outputs": [
        {
          "output_type": "stream",
          "name": "stdout",
          "text": [
            "Enter Number of Vertexs of the Polygon:5\n",
            "entity in row:  1  column:  1\n",
            "0\n",
            "entity in row:  1  column:  2\n",
            "3\n",
            "entity in row:  2  column:  1\n",
            "1\n",
            "entity in row:  2  column:  2\n",
            "6\n",
            "entity in row:  3  column:  1\n",
            "6\n",
            "entity in row:  3  column:  2\n",
            "7\n",
            "entity in row:  4  column:  1\n",
            "8\n",
            "entity in row:  4  column:  2\n",
            "5\n",
            "entity in row:  5  column:  1\n",
            "4\n",
            "entity in row:  5  column:  2\n",
            "1\n",
            "[[0, 3], [1, 6], [6, 7], [8, 5], [4, 1]]\n"
          ]
        },
        {
          "output_type": "display_data",
          "data": {
            "text/plain": [
              "<Figure size 432x288 with 1 Axes>"
            ],
            "image/png": "[encoded data removed]"
          },
          "metadata": {
            "needs_background": "light"
          }
        }
      ]
    }
  ]
}