{
  "nbformat": 4,
  "nbformat_minor": 0,
  "metadata": {
    "colab": {
      "provenance": []
    },
    "kernelspec": {
      "name": "python3",
      "display_name": "Python 3"
    },
    "language_info": {
      "name": "python"
    }
  },
  "cells": [
    {
      "cell_type": "code",
      "execution_count": null,
      "metadata": {
        "colab": {
          "base_uri": "https://localhost:8080/"
        },
        "id": "gpemsDfjK1zV",
        "outputId": "3414e5b6-57c2-49f4-be3d-66b8a82f2778"
      },
      "outputs": [
        {
          "output_type": "stream",
          "name": "stdout",
          "text": [
            "Enter Number of Vertices of the Polygon:3\n",
            "Entity in row:  1  Column:  1\n",
            "2\n",
            "Entity in row:  1  Column:  2\n",
            "3\n",
            "Entity in row:  2  Column:  1\n",
            "4\n",
            "Entity in row:  2  Column:  2\n",
            "3\n",
            "Entity in row:  3  Column:  1\n",
            "3\n",
            "Entity in row:  3  Column:  2\n",
            "7\n",
            "Cordinates of Your Land, You Entered ;\n",
            "[[2, 3], [4, 3], [3, 7]]\n",
            "Total Area is = 4.0\n"
          ]
        }
      ],
      "source": [
        "from array import *\n",
        "\n",
        "m=int(input(\"Enter Number of Vertices of the Polygon:\"))\n",
        "n=2\n",
        "xy=[]\n",
        "for i in range (0,m):\n",
        "  xy.append([])\n",
        "for i in range (0,m):\n",
        "  for j in range (0,n):\n",
        "    xy[i].append(j)\n",
        "    xy[i][j]=0\n",
        "for i in range (0,m):\n",
        "  for j in range(0,n):\n",
        "    print('Entity in row: ',i+1,' Column: ',j+1)\n",
        "    xy[i][j]=int(input())\n",
        "print('Cordinates of Your Land, You Entered ;')\n",
        "print(xy)\n",
        "\n",
        "def explode_xy(xy):\n",
        "    xl=[]\n",
        "    yl=[]\n",
        "    for i in range(len(xy)):\n",
        "        xl.append(xy[i][0])\n",
        "        yl.append(xy[i][1])\n",
        "    return xl,yl\n",
        "    \n",
        "def shoelace_area(x_list,y_list):\n",
        "    a1,a2=0,0\n",
        "    x_list.append(x_list[0])\n",
        "    y_list.append(y_list[0])\n",
        "    for j in range(len(x_list)-1):\n",
        "        a1 += x_list[j]*y_list[j+1]\n",
        "        a2 += y_list[j]*x_list[j+1]\n",
        "    l=abs(a1-a2)/2\n",
        "    return l\n",
        "xy_e=explode_xy(xy)\n",
        "\n",
        "A=shoelace_area(xy_e[0],xy_e[1])\n",
        "print(\"Total Area is =\", A)"
      ]
    }
  ]
}