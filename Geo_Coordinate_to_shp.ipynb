{
  "nbformat": 4,
  "nbformat_minor": 0,
  "metadata": {
    "colab": {
      "provenance": [],
      "collapsed_sections": [],
      "authorship_tag": "ABX9TyNvF2uBaPFMFyvdwjwHXxs8",
      "include_colab_link": true
    },
    "kernelspec": {
      "name": "python3",
      "display_name": "Python 3"
    },
    "language_info": {
      "name": "python"
    }
  },
  "cells": [
    {
      "cell_type": "markdown",
      "metadata": {
        "id": "view-in-github",
        "colab_type": "text"
      },
      "source": [
        "<a href=\"https://colab.research.google.com/github/thusharabandara/Geo-Area-Calculator-and-Map-Creation-Tool/blob/main/Geo_Coordinate_to_shp.ipynb\" target=\"_parent\"><img src=\"https://colab.research.google.com/assets/colab-badge.svg\" alt=\"Open In Colab\"/></a>"
      ]
    },
    {
      "cell_type": "code",
      "execution_count": null,
      "metadata": {
        "id": "lyVmUAnqqtP2"
      },
      "outputs": [],
      "source": [
        "#Parameters from Pyshp\n",
        "  #Longitude Pandas series or dataframe column or numpy array or python list.\n",
        "  #Latitude Pandas series or dataframe column or numpy array or python list.\n",
        "  #output_path Directory where you want to save the shape file.\n",
        "  #file_name File name to be kept for shape file in the given output path.\n",
        "\n",
        "  #To Create this Code- \n",
        "      #pip install Pandas2Shp\n",
        "\n",
        " #Using Code \n",
        "  #from Pandas2Shp import Pandas2Shp\n",
        "\n",
        "long=[-14.394,-9.03,-25.171,-6.712000000000001,-7.932,-8.445,-8.47,-9.355,-7.48,-7.888999999999999,-31.131,-7.966,-28.03,-28.715999999999998,-27.093000000000004,-8.887,-9.036,-25.698,-28.44,-8.584]\n",
        "lat=[-7.968999999999999,38.883,36.971,41.868,38.079,41.586999999999996,40.157,38.725,40.265,38.533,39.455,37.014,39.092,38.52,38.764,39.830999999999996,38.704,37.741,38.554,37.149]\n",
        "output_path='/home/user/airport/'\n",
        "file_name='airports'\n",
        "\n",
        "myObj=Pandas2Shp(longitude,latitude,output_path,file_name)\n",
        "myObj.getShp() "
      ]
    },
    {
      "cell_type": "code",
      "source": [],
      "metadata": {
        "id": "zpplXty_rfAw"
      },
      "execution_count": null,
      "outputs": []
    }
  ]
}