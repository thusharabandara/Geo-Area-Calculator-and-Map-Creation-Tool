{
  "nbformat": 4,
  "nbformat_minor": 0,
  "metadata": {
    "colab": {
      "provenance": [],
      "collapsed_sections": [],
      "authorship_tag": "ABX9TyOocmuRMiZzlxf4qffFGeS3",
      "include_colab_link": true
    },
    "kernelspec": {
      "name": "python3",
      "display_name": "Python 3"
    },
    "language_info": {
      "name": "python"
    }
  },
  "cells": [
    {
      "cell_type": "markdown",
      "metadata": {
        "id": "view-in-github",
        "colab_type": "text"
      },
      "source": [
        "<a href=\"https://colab.research.google.com/github/thusharabandara/Geo-Area-Calculator-and-Map-Creation-Tool/blob/main/Geo_Coordinate_to_shp.ipynb\" target=\"_parent\"><img src=\"https://colab.research.google.com/assets/colab-badge.svg\" alt=\"Open In Colab\"/></a>"
      ]
    },
    {
      "cell_type": "code",
      "execution_count": null,
      "metadata": {
        "id": "lyVmUAnqqtP2"
      },
      "outputs": [],
      "source": [
        "#Parameters from Pyshp\n",
        "  #Longitude Pandas series or dataframe column or numpy array or python list.\n",
        "  #Latitude Pandas series or dataframe column or numpy array or python list.\n",
        "  #output_path Directory where you want to save the shape file.\n",
        "  #file_name File name to be kept for shape file in the given output path.\n",
        "\n",
        "  #To Create this Code- \n",
        "      #pip install Pandas2Shp\n",
        "\n",
        " #Using Code \n",
        "  #from Pandas2Shp import Pandas2Shp\n",
        "\n",
        "long=[-14.394,-9.03,-25.171,-6.712000000000001,-7.932,-8.445,-8.47,-9.355,-7.48,-7.888999999999999,-31.131,-7.966,-28.03,-28.715999999999998,-27.093000000000004,-8.887,-9.036,-25.698,-28.44,-8.584]\n",
        "lat=[-7.968999999999999,38.883,36.971,41.868,38.079,41.586999999999996,40.157,38.725,40.265,38.533,39.455,37.014,39.092,38.52,38.764,39.830999999999996,38.704,37.741,38.554,37.149]\n",
        "output_path='/home/user/airport/'\n",
        "file_name='airports'\n",
        "\n",
        "myObj=Pandas2Shp(longitude,latitude,output_path,file_name)\n",
        "myObj.getShp() "
      ]
    },
    {
      "cell_type": "code",
      "source": [
        "#Matplotlib to kmz\n",
        "#https://stackoverflow.com/questions/46267677/python-export-a-matplotlib-plot-to-kml-file \n",
        "\n",
        "#input Code\n",
        "import warnings\n",
        "import numpy as np\n",
        "from scipy.spatial.distance import pdist, squareform\n",
        "import matplotlib.pyplot as plt\n",
        "import simplekml\n",
        "\n",
        "warnings.filterwarnings(\"ignore\")\n",
        "\n",
        "def minimum_spanning_tree(X, copy_X=True):\n",
        "    \"\"\"X are edge weights of fully connected graph\"\"\"\n",
        "    if copy_X:\n",
        "        X = X.copy()\n",
        "\n",
        "    if X.shape[0] != X.shape[1]:\n",
        "        raise ValueError(\"X needs to be square matrix of edge weights\")\n",
        "    n_vertices = X.shape[0]\n",
        "    spanning_edges = []\n",
        "\n",
        "    # initialize with node 0:                                                                                        \n",
        "    visited_vertices = [0]                                                                                           \n",
        "    num_visited = 1\n",
        "    # exclude self connections:\n",
        "    diag_indices = np.arange(n_vertices)\n",
        "   X[diag_indices, diag_indices] = np.inf\n",
        "\n",
        "    while num_visited != n_vertices:\n",
        "        new_edge = np.argmin(X[visited_vertices], axis=None)\n",
        "        # 2d encoding of new_edge from flat, get correct indices                                                     \n",
        "        new_edge = divmod(new_edge, n_vertices)\n",
        "        new_edge = [visited_vertices[new_edge[0]], new_edge[1]]                                                      \n",
        "        # add edge to tree\n",
        "        spanning_edges.append(new_edge)\n",
        "        visited_vertices.append(new_edge[1])\n",
        "        # remove all edges inside current tree\n",
        "        X[visited_vertices, new_edge[1]] = np.inf\n",
        "        X[new_edge[1], visited_vertices] = np.inf                                                                    \n",
        "        num_visited += 1\n",
        "    return np.vstack(spanning_edges)\n",
        "\n",
        "def test_mst():\n",
        "    P = np.loadtxt(\"testdata.csv\", delimiter=',', skiprows=1)\n",
        "\n",
        "    X = squareform(pdist(P))\n",
        "\n",
        "    edge_list = minimum_spanning_tree(X)\n",
        "    plt.scatter(P[:, 0], P[:, 1], c='b')\n",
        "\n",
        "    edges = []\n",
        "    for edge in edge_list:\n",
        "        i, j = edge\n",
        "        plt.plot([P[i, 0], P[j, 0]], [P[i, 1], P[j, 1]], c='b')\n",
        "        edges.append([(P[i, 0], P[j, 0]), (P[i, 1], P[j, 1])])\n",
        "    plt.show()\n",
        "\n",
        "    # Save KML file\n",
        "    kml = simplekml.Kml()\n",
        "    for i in range(len(edges)):\n",
        "        line = kml.newlinestring(name=\"Track\" + str(i + 1), coords=edges[i])\n",
        "        line.style.linestyle.width = 3\n",
        "        line.style.linestyle.color = simplekml.Color.red\n",
        "    kml.save(\"mst.kml\")\n",
        "\n",
        "if __name__ == \"__main__\":\n",
        "    test_mst()\n",
        "\n",
        "#output \n",
        "Longitude,Latitude\n",
        "-61.05,10.4\n",
        "-79.4333333333,9.15\n",
        "-70.6666666667,9.5333333333\n",
        "-63.1166666667,7.9166666667\n",
        "-63.1166666667,10.55\n",
        "-81.1833333333,7.5166666667\n",
        "-56.4833333333,3.1\n",
        "-60.5,3.9333333333\n",
        "-81.0166666667,7.6666666667\n",
        "-67.4333333333,8.9333333333\n",
        "-65.9666666667,10.3166666667\n",
        "-78.9333333333,8.3833333333\n",
        "-72.8666666667,9.8333333333\n",
        "-68.4,10.6166666667\n",
        "-72.9833333333,10.6166666667\n",
        "\n",
        "\n"
      ],
      "metadata": {
        "id": "zpplXty_rfAw"
      },
      "execution_count": null,
      "outputs": []
    }
  ]
}