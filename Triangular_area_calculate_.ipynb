{
  "nbformat": 4,
  "nbformat_minor": 0,
  "metadata": {
    "colab": {
      "provenance": [],
      "collapsed_sections": [],
      "authorship_tag": "ABX9TyOalsLhWox/IVh12cM5HHKI",
      "include_colab_link": true
    },
    "kernelspec": {
      "name": "python3",
      "display_name": "Python 3"
    },
    "language_info": {
      "name": "python"
    }
  },
  "cells": [
    {
      "cell_type": "markdown",
      "metadata": {
        "id": "view-in-github",
        "colab_type": "text"
      },
      "source": [
        "<a href=\"https://colab.research.google.com/github/thusharabandara/Geo-Area-Calculator-and-Map-Creation-Tool/blob/main/Triangular_area_calculate_.ipynb\" target=\"_parent\"><img src=\"https://colab.research.google.com/assets/colab-badge.svg\" alt=\"Open In Colab\"/></a>"
      ]
    },
    {
      "cell_type": "code",
      "execution_count": 1,
      "metadata": {
        "colab": {
          "base_uri": "https://localhost:8080/"
        },
        "id": "A20HktHlezho",
        "outputId": "e60293d6-d310-42ca-cb4b-1ee5228feadf"
      },
      "outputs": [
        {
          "output_type": "stream",
          "name": "stdout",
          "text": [
            "Enter Number of Vertices of the Polygon:3\n",
            "Entity in row:  1  Column:  1\n",
            "3\n",
            "Entity in row:  1  Column:  2\n",
            "6\n",
            "Entity in row:  2  Column:  1\n",
            "4\n",
            "Entity in row:  2  Column:  2\n",
            "5\n",
            "Entity in row:  3  Column:  1\n",
            "5\n",
            "Entity in row:  3  Column:  2\n",
            "7\n",
            "Cordinates of Your Land, You Entered ;\n",
            "[[3, 6], [4, 5], [5, 7]]\n",
            "Total Area is = 1.5\n"
          ]
        }
      ],
      "source": [
        "from array import *\n",
        "\n",
        "m=int(input(\"Enter Number of Vertices of the Polygon:\"))\n",
        "n=2\n",
        "xy=[]\n",
        "for i in range (0,m):\n",
        "  xy.append([])\n",
        "for i in range (0,m):\n",
        "  for j in range (0,n):\n",
        "    xy[i].append(j)\n",
        "    xy[i][j]=0\n",
        "for i in range (0,m):\n",
        "  for j in range(0,n):\n",
        "    print('Entity in row: ',i+1,' Column: ',j+1)\n",
        "    xy[i][j]=int(input())\n",
        "print('Cordinates of Your Land, You Entered ;')\n",
        "print(xy)\n",
        "\n",
        "def explode_xy(xy):\n",
        "    xl=[]\n",
        "    yl=[]\n",
        "    for i in range(len(xy)):\n",
        "        xl.append(xy[i][0])\n",
        "        yl.append(xy[i][1])\n",
        "    return xl,yl\n",
        "    \n",
        "def shoelace_area(x_list,y_list):\n",
        "    a1,a2=0,0\n",
        "    x_list.append(x_list[0])\n",
        "    y_list.append(y_list[0])\n",
        "    for j in range(len(x_list)-1):\n",
        "        a1 += x_list[j]*y_list[j+1]\n",
        "        a2 += y_list[j]*x_list[j+1]\n",
        "    l=abs(a1-a2)/2\n",
        "    return l\n",
        "xy_e=explode_xy(xy)\n",
        "\n",
        "A=shoelace_area(xy_e[0],xy_e[1])\n",
        "print(\"Total Area is =\", A)"
      ]
    },
    {
      "cell_type": "code",
      "source": [
        "#display polygon \n",
        "from matplotlib.patches import Polygon\n",
        "import matplotlib.pyplot as plt\n",
        "\n",
        "polygon1 = Polygon([(2,6), (3,8), (8,7)])\n",
        "\n",
        "fig, ax = plt.subplots(1,1)\n",
        "\n",
        "ax.add_patch(polygon1)\n",
        "\n",
        "plt.ylim(0,12)\n",
        "plt.xlim(0,10)"
      ],
      "metadata": {
        "colab": {
          "base_uri": "https://localhost:8080/",
          "height": 286
        },
        "id": "eAfbIKLFff1s",
        "outputId": "f7aa87d1-6b4f-4b51-a0ae-be9071fca44c"
      },
      "execution_count": 30,
      "outputs": [
        {
          "output_type": "execute_result",
          "data": {
            "text/plain": [
              "(0.0, 10.0)"
            ]
          },
          "metadata": {},
          "execution_count": 30
        },
        {
          "output_type": "display_data",
          "data": {
            "text/plain": [
              "<Figure size 432x288 with 1 Axes>"
            ],
            "image/png": "[encoded data removed]"
          },
          "metadata": {
            "needs_background": "light"
          }
        }
      ]
    },
    {
      "cell_type": "code",
      "source": [
        "#The Shoelace Algorithm - www.101computing.net/the-shoelace-algorithm\n",
        "\n",
        "def polygonArea(vertices):\n",
        "  #A function to apply the Shoelace algorithm\n",
        "  numberOfVertices = len(vertices)\n",
        "  sum1 = 0\n",
        "  sum2 = 0\n",
        "  \n",
        "  for i in range(0,numberOfVertices-1):\n",
        "    sum1 = sum1 + vertices[i][0] *  vertices[i+1][1]\n",
        "    sum2 = sum2 + vertices[i][1] *  vertices[i+1][0]\n",
        "  \n",
        "  #Add xn.y1\n",
        "  sum1 = sum1 + vertices[numberOfVertices-1][0]*vertices[0][1]   \n",
        "  #Add x1.yn\n",
        "  sum2 = sum2 + vertices[0][0]*vertices[numberOfVertices-1][1]   \n",
        "  \n",
        "  area = abs(sum1 - sum2) / 2\n",
        "  return area\n",
        "  \n",
        "#Vertices (x,y) Coordinates  \n",
        "A = [3,6]\n",
        "B = [4,5]\n",
        "C = [5,7]\n",
        "#Define a polygon as being a list of vertices, (on anticlockwise order)\n",
        "polygon = [A,B,C]  \n",
        "\n",
        "area = polygonArea(polygon)\n",
        "print(\"Polygon Vertices:\")\n",
        "print(polygon)\n",
        "print(\"\")\n",
        "print(\"Area = \" + str(area) + \"km2\")"
      ],
      "metadata": {
        "colab": {
          "base_uri": "https://localhost:8080/"
        },
        "id": "a4snSI3yfN71",
        "outputId": "678e08f6-428d-44f4-b1f1-32c79c2c433f"
      },
      "execution_count": 3,
      "outputs": [
        {
          "output_type": "stream",
          "name": "stdout",
          "text": [
            "Polygon Vertices:\n",
            "[[3, 6], [4, 5], [5, 7]]\n",
            "\n",
            "Area = 1.5km2\n"
          ]
        }
      ]
    }
  ]
}