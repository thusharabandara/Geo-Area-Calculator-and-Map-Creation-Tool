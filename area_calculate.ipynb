{
  "nbformat": 4,
  "nbformat_minor": 0,
  "metadata": {
    "colab": {
      "provenance": [],
      "collapsed_sections": [],
      "authorship_tag": "ABX9TyMceJmJpuFdns5GE/GYuQDk",
      "include_colab_link": true
    },
    "kernelspec": {
      "name": "python3",
      "display_name": "Python 3"
    },
    "language_info": {
      "name": "python"
    }
  },
  "cells": [
    {
      "cell_type": "markdown",
      "metadata": {
        "id": "view-in-github",
        "colab_type": "text"
      },
      "source": [
        "<a href=\"https://colab.research.google.com/github/thusharabandara/Geo-Area-Calculator-and-Map-Creation-Tool/blob/main/area_calculate.ipynb\" target=\"_parent\"><img src=\"https://colab.research.google.com/assets/colab-badge.svg\" alt=\"Open In Colab\"/></a>"
      ]
    },
    {
      "cell_type": "code",
      "source": [
        "from array import *\n",
        "\n",
        "\n",
        "\n",
        "m=int(input(\"Enter Number of Vertexs of the Polygon:\"))\n",
        "\n",
        "n=2\n",
        "\n",
        "Mat=[]\n",
        "\n",
        "for i in range (0,m):\n",
        "\n",
        "  Mat.append([])\n",
        "\n",
        "for i in range (0,m):\n",
        "\n",
        "  for j in range (0,n):\n",
        "\n",
        "    Mat[i].append(j)\n",
        "\n",
        "    Mat[i][j]=0\n",
        "\n",
        "for i in range (0,m):\n",
        "\n",
        "  for j in range(0,n):\n",
        "\n",
        "    print('entity in row: ',i+1,' column: ',j+1)\n",
        "\n",
        "    Mat[i][j]=int(input())\n",
        "\n",
        "print(Mat)\n"
      ],
      "metadata": {
        "id": "4r_dM-UfZoAj"
      },
      "execution_count": null,
      "outputs": []
    }
  ]
}