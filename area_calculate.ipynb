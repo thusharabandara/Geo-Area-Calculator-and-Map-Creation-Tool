{
  "nbformat": 4,
  "nbformat_minor": 0,
  "metadata": {
    "colab": {
      "provenance": [],
      "collapsed_sections": [],
      "include_colab_link": true
    },
    "kernelspec": {
      "name": "python3",
      "display_name": "Python 3"
    },
    "language_info": {
      "name": "python"
    }
  },
  "cells": [
    {
      "cell_type": "markdown",
      "metadata": {
        "id": "view-in-github",
        "colab_type": "text"
      },
      "source": [
        "<a href=\"https://colab.research.google.com/github/thusharabandara/Geo-Area-Calculator-and-Map-Creation-Tool/blob/main/area_calculate.ipynb\" target=\"_parent\"><img src=\"https://colab.research.google.com/assets/colab-badge.svg\" alt=\"Open In Colab\"/></a>"
      ]
    },
    {
      "cell_type": "code",
      "source": [
        "from array import *\n",
        "\n",
        "m=int(input(\"Enter Number of Vertexs of the Polygon:\"))\n",
        "\n",
        "n=2\n",
        "\n",
        "Mat=[]\n",
        "\n",
        "for i in range (0,m):\n",
        "\n",
        "  Mat.append([])\n",
        "\n",
        "for i in range (0,m):\n",
        "\n",
        "  for j in range (0,n):\n",
        "\n",
        "    Mat[i].append(j)\n",
        "\n",
        "    Mat[i][j]=0\n",
        "\n",
        "for i in range (0,m):\n",
        "\n",
        "  for j in range(0,n):\n",
        "\n",
        "    print('entity in row: ',i+1,' column: ',j+1)\n",
        "\n",
        "    Mat[i][j]=int(input())\n",
        "\n",
        "print(Mat)\n"
      ],
      "metadata": {
        "colab": {
          "base_uri": "https://localhost:8080/"
        },
        "id": "QtWDQURZgcbM",
        "outputId": "3a2dd4c2-d900-4d7b-fe0e-da8290737f69"
      },
      "execution_count": null,
      "outputs": [
        {
          "output_type": "stream",
          "name": "stdout",
          "text": [
            "Enter Number of Vertexs of the Polygon:5\n",
            "entity in row:  1  column:  1\n",
            "0\n",
            "entity in row:  1  column:  2\n",
            "3\n",
            "entity in row:  2  column:  1\n",
            "2\n",
            "entity in row:  2  column:  2\n",
            "6\n",
            "entity in row:  3  column:  1\n",
            "6\n",
            "entity in row:  3  column:  2\n",
            "7\n",
            "entity in row:  4  column:  1\n",
            "8\n",
            "entity in row:  4  column:  2\n",
            "5\n",
            "entity in row:  5  column:  1\n",
            "4\n",
            "entity in row:  5  column:  2\n",
            "1\n",
            "[[0, 3], [2, 6], [6, 7], [8, 5], [4, 1]]\n"
          ]
        }
      ]
    },
    {
      "cell_type": "code",
      "source": [
        "# Area Calculation with Unit Conversion\n",
        "x = input(\"enter your coordinates units \\n input m for meters \\n input km for kilometers\")\n",
        "def polygonArea(vertices):\n",
        "  #A function to apply the Shoelace algorithm\n",
        "  numberOfVertices = len(vertices)\n",
        "  sum1 = 0\n",
        "  sum2 = 0\n",
        "  \n",
        "  for i in range(0,numberOfVertices-1):\n",
        "    sum1 = sum1 + vertices[i][0] *  vertices[i+1][1]\n",
        "    sum2 = sum2 + vertices[i][1] *  vertices[i+1][0]\n",
        "  \n",
        "  #Add xn.y1\n",
        "  sum1 = sum1 + vertices[numberOfVertices-1][0]*vertices[0][1]   \n",
        "  #Add x1.yn\n",
        "  sum2 = sum2 + vertices[0][0]*vertices[numberOfVertices-1][1]   \n",
        "  \n",
        "  area = abs(sum1 - sum2) / 2\n",
        "  return area\n",
        "  \n",
        "#Vertices (x,y) Coordinates  \n",
        "A = [0,3]\n",
        "B = [2,6]\n",
        "C = [6,7]\n",
        "D = [8,5]\n",
        "E = [4,1]\n",
        "#Define a polygon as being a list of vertices, (on anticlockwise order)\n",
        "polygon = [A,B,C,D,E]  \n",
        "\n",
        "area = polygonArea(polygon)\n",
        "print(\"Polygon Vertices:\")\n",
        "print(polygon)\n",
        "print(\"\")\n",
        "if x == \"m\" :\n",
        " print(\"Area =\",str(area),\"m2\",\"Area =\",area/1000000,\"km2\",\"Area =\",area/10000,\"Hectares\",\"Area =\",area/25.2929,\"Perches\")\n",
        "elif x == \"km\" :\n",
        " print(\"Area =\",str(area),\"km2\",\"Area =\",area*1000000,\"m2\",\"Area =\",\"Area =\",area/0.01,\"Hectares\",(area*1000000)/4046.86,\"Acres\")\n",
        "else:\n",
        " print(\"Area =\",str(area))"
      ],
      "metadata": {
        "id": "BO0M6pEbpBSh",
        "outputId": "e3738fc5-1327-457c-d394-e43c1685f3e1",
        "colab": {
          "base_uri": "https://localhost:8080/"
        }
      },
      "execution_count": 1,
      "outputs": [
        {
          "output_type": "stream",
          "name": "stdout",
          "text": [
            "enter your coordinates units \n",
            " input m for meters \n",
            " input km for kilometersm\n",
            "Polygon Vertices:\n",
            "[[0, 3], [2, 6], [6, 7], [8, 5], [4, 1]]\n",
            "\n",
            "Area = 27.0 m2 Area = 2.7e-05 km2 Area = 0.0027 Hectares Area = 1.067493249093619 Perches\n"
          ]
        }
      ]
    },
    {
      "cell_type": "code",
      "source": [
        "#display polygon \n",
        "from matplotlib.patches import Polygon\n",
        "import matplotlib.pyplot as plt\n",
        "\n",
        "polygon1 = Polygon([(0,3), (2,6), (6,7), (8,5),(4,1)])\n",
        "\n",
        "fig, ax = plt.subplots(1,1)\n",
        "\n",
        "ax.add_patch(polygon1)\n",
        "\n",
        "plt.ylim(0,8)\n",
        "plt.xlim(0,9)"
      ],
      "metadata": {
        "colab": {
          "base_uri": "https://localhost:8080/",
          "height": 287
        },
        "id": "tfLOiu-jhPni",
        "outputId": "5e014f35-42fd-4dc3-b4cf-53dfee2b5c19"
      },
      "execution_count": null,
      "outputs": [
        {
          "output_type": "execute_result",
          "data": {
            "text/plain": [
              "(0.0, 9.0)"
            ]
          },
          "metadata": {},
          "execution_count": 20
        },
        {
          "output_type": "display_data",
          "data": {
            "text/plain": [
              "<Figure size 432x288 with 1 Axes>"
            ],
            "image/png": "[encoded data removed]"
          },
          "metadata": {
            "needs_background": "light"
          }
        }
      ]
    },
    {
      "cell_type": "code",
      "source": [
        "#The Shoelace Algorithm - www.101computing.net/the-shoelace-algorithm\n",
        "\n",
        "def polygonArea(vertices):\n",
        "  #A function to apply the Shoelace algorithm\n",
        "  numberOfVertices = len(vertices)\n",
        "  sum1 = 0\n",
        "  sum2 = 0\n",
        "  \n",
        "  for i in range(0,numberOfVertices-1):\n",
        "    sum1 = sum1 + vertices[i][0] *  vertices[i+1][1]\n",
        "    sum2 = sum2 + vertices[i][1] *  vertices[i+1][0]\n",
        "  \n",
        "  #Add xn.y1\n",
        "  sum1 = sum1 + vertices[numberOfVertices-1][0]*vertices[0][1]   \n",
        "  #Add x1.yn\n",
        "  sum2 = sum2 + vertices[0][0]*vertices[numberOfVertices-1][1]   \n",
        "  \n",
        "  area = abs(sum1 - sum2) / 2\n",
        "  return area\n",
        "  \n",
        "#Vertices (x,y) Coordinates  \n",
        "A = [0,3]\n",
        "B = [2,6]\n",
        "C = [6,7]\n",
        "D = [8,5]\n",
        "E = [4,1]\n",
        "#Define a polygon as being a list of vertices, (on anticlockwise order)\n",
        "polygon = [A,B,C,D,E]  \n",
        "\n",
        "area = polygonArea(polygon)\n",
        "print(\"Polygon Vertices:\")\n",
        "print(polygon)\n",
        "print(\"\")\n",
        "print(\"Area = \" + str(area) + \"km2\")"
      ],
      "metadata": {
        "colab": {
          "base_uri": "https://localhost:8080/"
        },
        "outputId": "5f779a26-0f4a-4766-e0b4-3bfee2d8e01b",
        "id": "FJ0sSWDAlyis"
      },
      "execution_count": null,
      "outputs": [
        {
          "output_type": "stream",
          "name": "stdout",
          "text": [
            "Polygon Vertices:\n",
            "[[0, 3], [2, 6], [6, 7], [8, 5], [4, 1]]\n",
            "\n",
            "Area = 27.0km2\n"
          ]
        }
      ]
    },
    {
      "cell_type": "code",
      "source": [
        "\n"
      ],
      "metadata": {
        "id": "Lk5ACnsnosaa"
      },
      "execution_count": null,
      "outputs": []
    }
  ]
}