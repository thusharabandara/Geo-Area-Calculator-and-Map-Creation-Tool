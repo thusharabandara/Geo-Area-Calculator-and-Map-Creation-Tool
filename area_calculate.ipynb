{
  "nbformat": 4,
  "nbformat_minor": 0,
  "metadata": {
    "colab": {
      "provenance": [],
      "collapsed_sections": [],
      "authorship_tag": "ABX9TyMDdseS2n9bxjaGAvPcjFq1",
      "include_colab_link": true
    },
    "kernelspec": {
      "name": "python3",
      "display_name": "Python 3"
    },
    "language_info": {
      "name": "python"
    }
  },
  "cells": [
    {
      "cell_type": "markdown",
      "metadata": {
        "id": "view-in-github",
        "colab_type": "text"
      },
      "source": [
        "<a href=\"https://colab.research.google.com/github/thusharabandara/Geo-Area-Calculator-and-Map-Creation-Tool/blob/main/area_calculate.ipynb\" target=\"_parent\"><img src=\"https://colab.research.google.com/assets/colab-badge.svg\" alt=\"Open In Colab\"/></a>"
      ]
    },
    {
      "cell_type": "code",
      "source": [
        "from array import *\n",
        "\n",
        "\n",
        "\n",
        "m=int(input(\"Enter Number of Vertexs of the Polygon:\"))\n",
        "\n",
        "n=2\n",
        "\n",
        "Mat=[]\n",
        "\n",
        "for i in range (0,m):\n",
        "\n",
        "  Mat.append([])\n",
        "\n",
        "for i in range (0,m):\n",
        "\n",
        "  for j in range (0,n):\n",
        "\n",
        "    Mat[i].append(j)\n",
        "\n",
        "    Mat[i][j]=0\n",
        "\n",
        "for i in range (0,m):\n",
        "\n",
        "  for j in range(0,n):\n",
        "\n",
        "    print('entity in row: ',i+1,' column: ',j+1)\n",
        "\n",
        "    Mat[i][j]=int(input())\n",
        "\n",
        "print(Mat)4\n",
        "\n"
      ],
      "metadata": {
        "colab": {
          "base_uri": "https://localhost:8080/"
        },
        "id": "4r_dM-UfZoAj",
        "outputId": "585f9fe3-ba93-4578-9882-0f8ce7557cb5"
      },
      "execution_count": 4,
      "outputs": [
        {
          "output_type": "stream",
          "name": "stdout",
          "text": [
            "Enter Number of Vertexs of the Polygon:5\n",
            "entity in row:  1  column:  1\n",
            "4\n",
            "entity in row:  1  column:  2\n",
            "2\n",
            "entity in row:  2  column:  1\n",
            "3\n",
            "entity in row:  2  column:  2\n",
            "4\n",
            "entity in row:  3  column:  1\n",
            "0\n",
            "entity in row:  3  column:  2\n",
            "1\n",
            "entity in row:  4  column:  1\n",
            "0\n",
            "entity in row:  4  column:  2\n",
            "4\n",
            "entity in row:  5  column:  1\n",
            "2\n",
            "entity in row:  5  column:  2\n",
            "1\n",
            "[[4, 2], [3, 4], [0, 1], [0, 4], [2, 1]]\n"
          ]
        }
      ]
    }
  ]
}