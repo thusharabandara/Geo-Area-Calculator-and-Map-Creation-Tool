{
  "nbformat": 4,
  "nbformat_minor": 0,
  "metadata": {
    "colab": {
      "provenance": [],
      "collapsed_sections": [],
      "authorship_tag": "ABX9TyPTg8RIOj2KYmnJn8605ZEW",
      "include_colab_link": true
    },
    "kernelspec": {
      "name": "python3",
      "display_name": "Python 3"
    },
    "language_info": {
      "name": "python"
    }
  },
  "cells": [
    {
      "cell_type": "markdown",
      "metadata": {
        "id": "view-in-github",
        "colab_type": "text"
      },
      "source": [
        "<a href=\"https://colab.research.google.com/github/thusharabandara/Geo-Area-Calculator-and-Map-Creation-Tool/blob/main/Small_Land_area_calculation_.ipynb\" target=\"_parent\"><img src=\"https://colab.research.google.com/assets/colab-badge.svg\" alt=\"Open In Colab\"/></a>"
      ]
    },
    {
      "cell_type": "code",
      "source": [
        "from array import *\n",
        "\n",
        "m=int(input(\"Enter Number of Vertices of the Polygon:\"))\n",
        "n=2\n",
        "xy=[]\n",
        "for i in range (0,m):\n",
        "  xy.append([])\n",
        "for i in range (0,m):\n",
        "  for j in range (0,n):\n",
        "    xy[i].append(j)\n",
        "    xy[i][j]=0\n",
        "for i in range (0,m):\n",
        "  for j in range(0,n):\n",
        "    print('Entity in row: ',i+1,' Column: ',j+1)\n",
        "    xy[i][j]=int(input())\n",
        "print('Cordinates of Your Land, You Entered ;')\n",
        "print(xy)\n",
        "\n",
        "def explode_xy(xy):\n",
        "    xl=[]\n",
        "    yl=[]\n",
        "    for i in range(len(xy)):\n",
        "        xl.append(xy[i][0])\n",
        "        yl.append(xy[i][1])\n",
        "    return xl,yl\n",
        "    \n",
        "def shoelace_area(x_list,y_list):\n",
        "    a1,a2=0,0\n",
        "    x_list.append(x_list[0])\n",
        "    y_list.append(y_list[0])\n",
        "    for j in range(len(x_list)-1):\n",
        "        a1 += x_list[j]*y_list[j+1]\n",
        "        a2 += y_list[j]*x_list[j+1]\n",
        "    l=abs(a1-a2)/2\n",
        "    return l\n",
        "xy_e=explode_xy(xy)\n",
        "\n",
        "A=shoelace_area(xy_e[0],xy_e[1])\n",
        "print(\"Total Area is =\", A)\n"
      ],
      "metadata": {
        "colab": {
          "base_uri": "https://localhost:8080/"
        },
        "id": "5j6kUyuesdy4",
        "outputId": "b1123d80-fe7f-4c78-ecbe-e97166b583e2"
      },
      "execution_count": 8,
      "outputs": [
        {
          "output_type": "stream",
          "name": "stdout",
          "text": [
            "Enter Number of Vertices of the Polygon:5\n",
            "Entity in row:  1  Column:  1\n",
            "3\n",
            "Entity in row:  1  Column:  2\n",
            "2\n",
            "Entity in row:  2  Column:  1\n",
            "5\n",
            "Entity in row:  2  Column:  2\n",
            "3\n",
            "Entity in row:  3  Column:  1\n",
            "5\n",
            "Entity in row:  3  Column:  2\n",
            "5\n",
            "Entity in row:  4  Column:  1\n",
            "4\n",
            "Entity in row:  4  Column:  2\n",
            "8\n",
            "Entity in row:  5  Column:  1\n",
            "2\n",
            "Entity in row:  5  Column:  2\n",
            "6\n",
            "Cordinates of Your Land, You Entered ;\n",
            "[[3, 2], [5, 3], [5, 5], [4, 8], [2, 6]]\n",
            "Total Area is = 11.5\n"
          ]
        }
      ]
    },
    {
      "cell_type": "code",
      "source": [
        "#display polygon \n",
        "from matplotlib.patches import Polygon\n",
        "import matplotlib.pyplot as plt\n",
        "\n",
        "polygon1 = Polygon([(3,2), (5,3), (5,5), (4,8), (2,6)])\n",
        "\n",
        "fig, ax = plt.subplots(1,1)\n",
        "\n",
        "ax.add_patch(polygon1)\n",
        "\n",
        "plt.ylim(0,8)\n",
        "plt.xlim(0,7)\n",
        "\n"
      ],
      "metadata": {
        "colab": {
          "base_uri": "https://localhost:8080/",
          "height": 269
        },
        "id": "k92K6rzOxVV4",
        "outputId": "7a367b1a-39f0-41bc-b1a0-232f82885a63"
      },
      "execution_count": 10,
      "outputs": [
        {
          "output_type": "display_data",
          "data": {
            "text/plain": [
              "<Figure size 432x288 with 1 Axes>"
            ],
            "image/png": "[encoded data removed]"
          },
          "metadata": {
            "needs_background": "light"
          }
        }
      ]
    },
    {
      "cell_type": "code",
      "source": [
        "# Using The Shoelace Algorithm - To implement the shoelace algorithm we will define a polygon as a list of vertices,listed in anticlockwise order. Each vertex will be a list of 2 values: its x and y coordinates\n",
        "\n",
        "def polygonArea(vertices):\n",
        "  #A function to apply the Shoelace algorithm\n",
        "  numberOfVertices = len(vertices)\n",
        "  sum1 = 0\n",
        "  sum2 = 0\n",
        "  \n",
        "  for i in range(0,numberOfVertices-1):\n",
        "    sum1 = sum1 + vertices[i][0] *  vertices[i+1][1]\n",
        "    sum2 = sum2 + vertices[i][1] *  vertices[i+1][0]\n",
        "  \n",
        "  #Add xn.y1\n",
        "  sum1 = sum1 + vertices[numberOfVertices-1][0]*vertices[0][1]   \n",
        "  #Add x1.yn\n",
        "  sum2 = sum2 + vertices[0][0]*vertices[numberOfVertices-1][1]   \n",
        "  \n",
        "  area = abs(sum1 - sum2) / 2\n",
        "  return area\n",
        "  \n",
        "#Vertices (x,y) Coordinates  \n",
        "A = [3,2]\n",
        "B = [5,3]\n",
        "C = [5,5]\n",
        "D = [4,8]\n",
        "E = [2,6]\n",
        "#Define a polygon as being a list of vertices, (on anticlockwise order)\n",
        "polygon = [A,B,C,D,E]  \n",
        "\n",
        "area = polygonArea(polygon)\n",
        "print(\"Polygon Vertices:\")\n",
        "print(polygon)\n",
        "print(\"\")\n",
        "print(\"Area = \" + str(area) + \"ft2\")\n"
      ],
      "metadata": {
        "colab": {
          "base_uri": "https://localhost:8080/"
        },
        "id": "2GF43TLuzvQH",
        "outputId": "914694eb-f56b-4eec-c422-bd620bee505d"
      },
      "execution_count": 18,
      "outputs": [
        {
          "output_type": "stream",
          "name": "stdout",
          "text": [
            "Polygon Vertices:\n",
            "[[3, 2], [5, 3], [5, 5], [4, 8], [2, 6]]\n",
            "\n",
            "Area = 11.5ft2\n"
          ]
        }
      ]
    }
  ]
}