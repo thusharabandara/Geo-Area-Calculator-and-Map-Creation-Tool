{
  "nbformat": 4,
  "nbformat_minor": 0,
  "metadata": {
    "colab": {
      "provenance": [],
      "collapsed_sections": [],
      "authorship_tag": "ABX9TyN7m7OGMvhiqD4yzE26LL1s",
      "include_colab_link": true
    },
    "kernelspec": {
      "name": "python3",
      "display_name": "Python 3"
    },
    "language_info": {
      "name": "python"
    }
  },
  "cells": [
    {
      "cell_type": "markdown",
      "metadata": {
        "id": "view-in-github",
        "colab_type": "text"
      },
      "source": [
        "<a href=\"https://colab.research.google.com/github/thusharabandara/Geo-Area-Calculator-and-Map-Creation-Tool/blob/main/Link_with_Matplotlib_.ipynb\" target=\"_parent\"><img src=\"https://colab.research.google.com/assets/colab-badge.svg\" alt=\"Open In Colab\"/></a>"
      ]
    },
    {
      "cell_type": "code",
      "execution_count": 7,
      "metadata": {
        "colab": {
          "base_uri": "https://localhost:8080/",
          "height": 716
        },
        "id": "XcD163fzUFST",
        "outputId": "66ff146b-c55d-4f6b-b15b-534c41ac007f"
      },
      "outputs": [
        {
          "output_type": "stream",
          "name": "stdout",
          "text": [
            "Enter Number of Vertexs of the Polygon:6\n",
            "entity in row:  1  column:  1\n",
            "0\n",
            "entity in row:  1  column:  2\n",
            "3\n",
            "entity in row:  2  column:  1\n",
            "2\n",
            "entity in row:  2  column:  2\n",
            "6\n",
            "entity in row:  3  column:  1\n",
            "4\n",
            "entity in row:  3  column:  2\n",
            "7\n",
            "entity in row:  4  column:  1\n",
            "3\n",
            "entity in row:  4  column:  2\n",
            "5\n",
            "entity in row:  5  column:  1\n",
            "4\n",
            "entity in row:  5  column:  2\n",
            "1\n",
            "entity in row:  6  column:  1\n",
            "5\n",
            "entity in row:  6  column:  2\n",
            "6\n",
            "[[0, 3], [2, 6], [4, 7], [3, 5], [4, 1], [5, 6]]\n"
          ]
        },
        {
          "output_type": "display_data",
          "data": {
            "text/plain": [
              "<Figure size 432x288 with 1 Axes>"
            ],
            "image/png": "[encoded data removed]"
          },
          "metadata": {
            "needs_background": "light"
          }
        }
      ],
      "source": [
        "from array import *\n",
        "import matplotlib.pyplot as plt\n",
        "\n",
        "\n",
        "m=int(input(\"Enter Number of Vertexs of the Polygon:\"))\n",
        "\n",
        "n=2\n",
        "\n",
        "Mat=[]\n",
        "\n",
        "for i in range (0,m):\n",
        "\n",
        "  Mat.append([])\n",
        "\n",
        "for i in range (0,m):\n",
        "\n",
        "  for j in range (0,n):\n",
        "\n",
        "    Mat[i].append(j)\n",
        "    Mat[i][j]=0\n",
        "\n",
        "for i in range (0,m):\n",
        "\n",
        "  for j in range(0,n):\n",
        "\n",
        "    print('entity in row: ',i+1,' column: ',j+1)\n",
        "\n",
        "    Mat[i][j]=int(input())\n",
        "\n",
        "print(Mat)\n",
        "x = [0, 2, 4,3,4,5]\n",
        "y = [3,6 , 7,5,1,6]\n",
        "\n",
        "plt.fill(x, y, c='green')\n",
        "plt.show()\n"
      ]
    }
  ]
}